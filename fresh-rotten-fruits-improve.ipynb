{
 "cells": [
  {
   "cell_type": "markdown",
   "metadata": {
    "colab_type": "text",
    "id": "view-in-github"
   },
   "source": [
    "<a href=\"https://colab.research.google.com/github/Bangkit-JKT2-D/fruits-fresh-rotten-classification/blob/master/fresh-rotten-fruits-improve.ipynb\" target=\"_parent\"><img src=\"https://colab.research.google.com/assets/colab-badge.svg\" alt=\"Open In Colab\"/></a>"
   ]
  },
  {
   "cell_type": "markdown",
   "metadata": {
    "colab_type": "text",
    "id": "hN6RPuLXpQDW"
   },
   "source": [
    "## Import\n",
    "The following code imports the necessary code to run the code in the rest of this Colaboratory."
   ]
  },
  {
   "cell_type": "code",
   "execution_count": 57,
   "metadata": {
    "colab": {
     "base_uri": "https://localhost:8080/",
     "height": 36
    },
    "colab_type": "code",
    "id": "xjAU-S1tpYbe",
    "outputId": "c2c7b6ed-c8db-4a9c-f58a-b23cd668fec8"
   },
   "outputs": [],
   "source": [
    "import os\n",
    "import zipfile\n",
    "import random\n",
    "import shutil\n",
    "import numpy as np\n",
    "from shutil import copyfile\n",
    "\n",
    "%matplotlib inline\n",
    "import matplotlib.image as mpimg\n",
    "import matplotlib.pyplot as plt\n",
    "\n",
    "import tensorflow as tf\n",
    "from keras.preprocessing import image\n",
    "from tensorflow.keras.preprocessing.image import ImageDataGenerator"
   ]
  },
  {
   "cell_type": "code",
   "execution_count": 58,
   "metadata": {
    "colab": {
     "base_uri": "https://localhost:8080/",
     "height": 36
    },
    "colab_type": "code",
    "id": "atlfTzNGp9Da",
    "outputId": "d67b98b1-62d7-484b-e0f7-420c08ce46d9"
   },
   "outputs": [
    {
     "name": "stdout",
     "output_type": "stream",
     "text": [
      "2.9.1\n"
     ]
    }
   ],
   "source": [
    "print(tf.__version__)"
   ]
  },
  {
   "cell_type": "markdown",
   "metadata": {
    "colab_type": "text",
    "id": "5WzNVHRHpfhz"
   },
   "source": [
    "## Extract Data"
   ]
  },
  {
   "cell_type": "code",
   "execution_count": 70,
   "metadata": {},
   "outputs": [],
   "source": [
    "try:\n",
    "    base_dir = os.getcwd()\n",
    "    fruit_dir = make_dir(os.path.join(base_dir, 'fruit-dataset'))\n",
    "    train_dir = make_dir(os.path.join(fruit_dir, 'train'))\n",
    "    validation_dir = make_dir(os.path.join(fruit_dir, 'val'))\n",
    "    test_dir = make_dir(os.path.join(fruit_dir, 'test'))\n",
    "    preview_dir = make_dir(os.path.join(fruit_dir, 'preview'))\n",
    "\n",
    "    train_fresh_dir = make_dir(os.path.join(train_dir, 'Fresh Fruit'))\n",
    "    train_rotten_dir = make_dir(os.path.join(train_dir, 'Rotten Fruit'))\n",
    "\n",
    "    validation_fresh_dir = make_dir(os.path.join(validation_dir, 'Fresh Fruit'))\n",
    "    validation_rotten_dir = make_dir(os.path.join(validation_dir, 'Rotten Fruit'))\n",
    "\n",
    "    test_fresh_dir = make_dir(os.path.join(test_dir, 'Fresh Fruit'))\n",
    "    test_rotten_dir = make_dir(os.path.join(test_dir, 'Rotten Fruit'))\n",
    "\n",
    "except OSError:\n",
    "    pass"
   ]
  },
  {
   "cell_type": "markdown",
   "metadata": {
    "colab_type": "text",
    "id": "t1LLO9qcnbI3"
   },
   "source": [
    "## Split Dataset to Train, Test and Validation"
   ]
  },
  {
   "cell_type": "code",
   "execution_count": 72,
   "metadata": {
    "colab": {},
    "colab_type": "code",
    "id": "xmMyaqbmpzfX"
   },
   "outputs": [],
   "source": [
    "from PIL import Image\n",
    "\n",
    "def split_data(SOURCE='', TRAINING='', VALIDATION='', SPLIT_SIZE=0):\n",
    "  data = os.listdir(SOURCE)\n",
    "  random_data = random.sample(data, len(data))\n",
    "\n",
    "  train_size = len(data)*SPLIT_SIZE\n",
    "\n",
    "  for i, filename in enumerate(random_data):\n",
    "    filepath = os.path.join(SOURCE, filename)\n",
    "    if os.path.getsize(filepath) > 0:\n",
    "      if i < train_size:\n",
    "        copyfile(filepath, os.path.join(TRAINING, filename))\n",
    "        # img = Image.open(os.path.join(TRAINING, filename)).convert('L')\n",
    "        # img.save(os.path.join(TRAINING, filename))\n",
    "      else:\n",
    "        copyfile(filepath, os.path.join(VALIDATION, filename))\n",
    "        # img = Image.open(os.path.join(VALIDATION, filename)).convert('L')\n",
    "        # img.save(os.path.join(VALIDATION, filename))"
   ]
  },
  {
   "cell_type": "code",
   "execution_count": 73,
   "metadata": {},
   "outputs": [
    {
     "name": "stdout",
     "output_type": "stream",
     "text": [
      "D:\\Kuliah Semester 4\\AI\\Final Project\\rotten-fruit-classification\\fruits-fresh-rotten-classification-master\\fruits-fresh-rotten-classification-master\n"
     ]
    }
   ],
   "source": [
    "base_dir = os.getcwd()\n",
    "print(base_dir)"
   ]
  },
  {
   "cell_type": "code",
   "execution_count": 74,
   "metadata": {
    "colab": {
     "base_uri": "https://localhost:8080/",
     "height": 261
    },
    "colab_type": "code",
    "id": "LgrZmUPtpOd2",
    "outputId": "e148e112-9e89-4b33-95dc-1f71dfaef50a"
   },
   "outputs": [
    {
     "name": "stdout",
     "output_type": "stream",
     "text": [
      "fapples_train images =  1693\n",
      "fbananas_train images =  1581\n",
      "foranges_train images =  1466\n",
      "rapples_train images =  2342\n",
      "rbananas_train images =  2224\n",
      "roranges_train images =  1595\n",
      "\n",
      "fapples_test images =  395\n",
      "fbananas_test images =  381\n",
      "foranges_test images =  388\n",
      "rapples_test images =  601\n",
      "rbananas_test images =  530\n",
      "roranges_test images =  403\n"
     ]
    }
   ],
   "source": [
    "base_dir = os.getcwd()\n",
    "dataset_train_dir = os.path.join(base_dir, 'Datasets\\\\train')\n",
    "dataset_test_dir = os.path.join(base_dir, 'Datasets\\\\test')\n",
    "\n",
    "fapples_train_dir = os.path.join(dataset_train_dir, 'freshapples')\n",
    "fbananas_train_dir = os.path.join(dataset_train_dir, 'freshbanana')\n",
    "foranges_train_dir = os.path.join(dataset_train_dir, 'freshoranges')\n",
    "rapples_train_dir = os.path.join(dataset_train_dir, 'rottenapples')\n",
    "rbananas_train_dir = os.path.join(dataset_train_dir, 'rottenbanana')\n",
    "roranges_train_dir = os.path.join(dataset_train_dir, 'rottenoranges')\n",
    "\n",
    "fapples_test_dir = os.path.join(dataset_test_dir, 'freshapples')\n",
    "fbananas_test_dir = os.path.join(dataset_test_dir, 'freshbanana')\n",
    "foranges_test_dir = os.path.join(dataset_test_dir, 'freshoranges')\n",
    "rapples_test_dir = os.path.join(dataset_test_dir, 'rottenapples')\n",
    "rbananas_test_dir = os.path.join(dataset_test_dir, 'rottenbanana')\n",
    "roranges_test_dir = os.path.join(dataset_test_dir, 'rottenoranges')\n",
    "\n",
    "print('fapples_train images = ', len(os.listdir(fapples_train_dir)))\n",
    "print('fbananas_train images = ', len(os.listdir(fbananas_train_dir)))\n",
    "print('foranges_train images = ', len(os.listdir(foranges_train_dir)))\n",
    "print('rapples_train images = ', len(os.listdir(rapples_train_dir)))\n",
    "print('rbananas_train images = ', len(os.listdir(rbananas_train_dir)))\n",
    "print('roranges_train images = ', len(os.listdir(roranges_train_dir)))\n",
    "print()\n",
    "print('fapples_test images = ', len(os.listdir(fapples_test_dir)))\n",
    "print('fbananas_test images = ', len(os.listdir(fbananas_test_dir)))\n",
    "print('foranges_test images = ', len(os.listdir(foranges_test_dir)))\n",
    "print('rapples_test images = ', len(os.listdir(rapples_test_dir)))\n",
    "print('rbananas_test images = ', len(os.listdir(rbananas_test_dir)))\n",
    "print('roranges_test images = ', len(os.listdir(roranges_test_dir)))"
   ]
  },
  {
   "cell_type": "code",
   "execution_count": 75,
   "metadata": {
    "colab": {},
    "colab_type": "code",
    "id": "feno4qIJp17H"
   },
   "outputs": [],
   "source": [
    "SPLIT_SIZE = 0.67\n",
    "split_data(fapples_train_dir, train_fresh_dir, validation_fresh_dir, SPLIT_SIZE)\n",
    "split_data(fbananas_train_dir, train_fresh_dir, validation_fresh_dir, SPLIT_SIZE)\n",
    "split_data(foranges_train_dir, train_fresh_dir, validation_fresh_dir, SPLIT_SIZE)\n",
    "split_data(rapples_train_dir, train_rotten_dir, validation_rotten_dir, SPLIT_SIZE)\n",
    "split_data(rbananas_train_dir, train_rotten_dir, validation_rotten_dir, SPLIT_SIZE)\n",
    "split_data(roranges_train_dir, train_rotten_dir, validation_rotten_dir, SPLIT_SIZE)\n",
    "\n",
    "SPLIT_SIZE = 1.0\n",
    "split_data(fapples_test_dir, test_fresh_dir, validation_fresh_dir, SPLIT_SIZE)\n",
    "split_data(fbananas_test_dir, test_fresh_dir, validation_fresh_dir, SPLIT_SIZE)\n",
    "split_data(foranges_test_dir, test_fresh_dir, validation_fresh_dir, SPLIT_SIZE)\n",
    "split_data(rapples_test_dir, test_rotten_dir, validation_rotten_dir, SPLIT_SIZE)\n",
    "split_data(rbananas_test_dir, test_rotten_dir, validation_rotten_dir, SPLIT_SIZE)\n",
    "split_data(roranges_test_dir, test_rotten_dir, validation_rotten_dir, SPLIT_SIZE)"
   ]
  },
  {
   "cell_type": "code",
   "execution_count": 88,
   "metadata": {},
   "outputs": [
    {
     "name": "stdout",
     "output_type": "stream",
     "text": [
      "['preview', 'test', 'train', 'val']\n"
     ]
    }
   ],
   "source": [
    "print(os.listdir('fruit-dataset'))"
   ]
  },
  {
   "cell_type": "code",
   "execution_count": 89,
   "metadata": {
    "colab": {
     "base_uri": "https://localhost:8080/",
     "height": 167
    },
    "colab_type": "code",
    "id": "giGseJnkzm1Q",
    "outputId": "a79cf435-6890-4d05-b9f9-59e2bc984651"
   },
   "outputs": [
    {
     "name": "stdout",
     "output_type": "stream",
     "text": [
      "3178\n",
      "4130\n",
      "\n",
      "1562\n",
      "2031\n",
      "\n",
      "1164\n",
      "1534\n"
     ]
    }
   ],
   "source": [
    "print(len(os.listdir('fruit-dataset/train/Fresh Fruit/')))\n",
    "print(len(os.listdir('fruit-dataset/train/Rotten Fruit/')))\n",
    "print()\n",
    "print(len(os.listdir('fruit-dataset/val/Fresh Fruit/')))\n",
    "print(len(os.listdir('fruit-dataset/val/Rotten Fruit/')))\n",
    "print()\n",
    "print(len(os.listdir('fruit-dataset/test/Fresh Fruit/')))\n",
    "print(len(os.listdir('fruit-dataset/test/Rotten Fruit/')))"
   ]
  },
  {
   "cell_type": "markdown",
   "metadata": {
    "colab_type": "text",
    "id": "avKnfQCYniuo"
   },
   "source": [
    "## Augmentation"
   ]
  },
  {
   "cell_type": "code",
   "execution_count": 95,
   "metadata": {
    "colab": {},
    "colab_type": "code",
    "id": "c1ZotiW51xSM"
   },
   "outputs": [],
   "source": [
    "train_datagen = ImageDataGenerator(\n",
    "    rescale=1./255,\n",
    "    width_shift_range=0.2, #0.2, 0.5\n",
    "    height_shift_range=0.2, #0.2, 0.5\n",
    "    shear_range=0.2,\n",
    "    zoom_range=[0.5, 1.0], # 0.2, 0.5, [0.5,1.0]\n",
    "    rotation_range=90, #20, 40, 60, 90\n",
    "    horizontal_flip=True,\n",
    "    vertical_flip=True,\n",
    "    fill_mode='reflect' #nearest, reflect, wrap\n",
    ")\n",
    "\n",
    "validation_datagen = ImageDataGenerator(\n",
    "    rescale=1./255\n",
    ")"
   ]
  },
  {
   "cell_type": "markdown",
   "metadata": {
    "colab_type": "text",
    "id": "boND1dnBnmO8"
   },
   "source": [
    "## Image Data Generator"
   ]
  },
  {
   "cell_type": "code",
   "execution_count": 110,
   "metadata": {
    "colab": {
     "base_uri": "https://localhost:8080/",
     "height": 55
    },
    "colab_type": "code",
    "id": "71theQtN1uby",
    "outputId": "20cf6990-bfaf-410e-d392-8294a887ee80"
   },
   "outputs": [
    {
     "name": "stdout",
     "output_type": "stream",
     "text": [
      "Found 7308 images belonging to 2 classes.\n",
      "Found 3593 images belonging to 2 classes.\n"
     ]
    }
   ],
   "source": [
    "train_generator = train_datagen.flow_from_directory(train_dir,\n",
    "                                                    batch_size=32,\n",
    "                                                    color_mode=\"rgb\",\n",
    "                                                    # shuffle = False,\n",
    "                                                    target_size=(150,150),\n",
    "                                                    class_mode='binary')\n",
    "\n",
    "validation_generator = train_datagen.flow_from_directory(validation_dir,\n",
    "                                                         batch_size=32,\n",
    "                                                         color_mode=\"rgb\",\n",
    "                                                         # shuffle = False,\n",
    "                                                         target_size=(150,150),\n",
    "                                                         class_mode='binary')"
   ]
  },
  {
   "cell_type": "markdown",
   "metadata": {
    "colab_type": "text",
    "id": "0iLWWXPZoWTs"
   },
   "source": [
    "## Callbacks"
   ]
  },
  {
   "cell_type": "code",
   "execution_count": 111,
   "metadata": {
    "colab": {},
    "colab_type": "code",
    "id": "sK3z_ORJ4x5m"
   },
   "outputs": [],
   "source": [
    "class myCallback(tf.keras.callbacks.Callback):\n",
    "  def on_epoch_end(self, epoch, logs={}):\n",
    "    if(logs.get('accuracy') >= 98):\n",
    "      print(\"\\nReached 98% accuracy. Stop Training\")\n",
    "      self.model.stop_training = True\n",
    "\n",
    "callbacks = myCallback()"
   ]
  },
  {
   "cell_type": "markdown",
   "metadata": {
    "colab_type": "text",
    "id": "PIEmked8npyF"
   },
   "source": [
    "## Sequential Model (Baseline)"
   ]
  },
  {
   "cell_type": "code",
   "execution_count": 112,
   "metadata": {
    "colab": {
     "base_uri": "https://localhost:8080/",
     "height": 655
    },
    "colab_type": "code",
    "id": "_gvnMiWD0j90",
    "outputId": "672a18d4-927b-4478-b0f0-4bfb6d546bcb"
   },
   "outputs": [
    {
     "name": "stdout",
     "output_type": "stream",
     "text": [
      "Model: \"sequential\"\n",
      "_________________________________________________________________\n",
      " Layer (type)                Output Shape              Param #   \n",
      "=================================================================\n",
      " conv2d (Conv2D)             (None, 148, 148, 32)      896       \n",
      "                                                                 \n",
      " max_pooling2d (MaxPooling2D  (None, 74, 74, 32)       0         \n",
      " )                                                               \n",
      "                                                                 \n",
      " dropout (Dropout)           (None, 74, 74, 32)        0         \n",
      "                                                                 \n",
      " conv2d_1 (Conv2D)           (None, 72, 72, 64)        18496     \n",
      "                                                                 \n",
      " max_pooling2d_1 (MaxPooling  (None, 36, 36, 64)       0         \n",
      " 2D)                                                             \n",
      "                                                                 \n",
      " dropout_1 (Dropout)         (None, 36, 36, 64)        0         \n",
      "                                                                 \n",
      " conv2d_2 (Conv2D)           (None, 34, 34, 128)       73856     \n",
      "                                                                 \n",
      " max_pooling2d_2 (MaxPooling  (None, 17, 17, 128)      0         \n",
      " 2D)                                                             \n",
      "                                                                 \n",
      " dropout_2 (Dropout)         (None, 17, 17, 128)       0         \n",
      "                                                                 \n",
      " flatten (Flatten)           (None, 36992)             0         \n",
      "                                                                 \n",
      " dense (Dense)               (None, 512)               18940416  \n",
      "                                                                 \n",
      " dropout_3 (Dropout)         (None, 512)               0         \n",
      "                                                                 \n",
      " dense_1 (Dense)             (None, 1)                 513       \n",
      "                                                                 \n",
      "=================================================================\n",
      "Total params: 19,034,177\n",
      "Trainable params: 19,034,177\n",
      "Non-trainable params: 0\n",
      "_________________________________________________________________\n"
     ]
    }
   ],
   "source": [
    "#if you want to use transfer learning, skip this cell\n",
    "model = tf.keras.models.Sequential([\n",
    "    tf.keras.layers.Conv2D(32, (3,3), activation='relu', input_shape=(150, 150, 3)),\n",
    "    tf.keras.layers.MaxPooling2D(2,2),\n",
    "    tf.keras.layers.Dropout(0.2),\n",
    "    tf.keras.layers.Conv2D(64, (3,3), activation='relu'),\n",
    "    tf.keras.layers.MaxPooling2D(2,2),\n",
    "    tf.keras.layers.Dropout(0.2),\n",
    "    tf.keras.layers.Conv2D(128, (3,3), activation='relu'),\n",
    "    tf.keras.layers.MaxPooling2D(2,2),\n",
    "    tf.keras.layers.Dropout(0.2),\n",
    "    tf.keras.layers.Flatten(),\n",
    "    tf.keras.layers.Dense(512, activation='relu'),\n",
    "    tf.keras.layers.Dropout(0.2),\n",
    "    tf.keras.layers.Dense(1, activation='sigmoid')\n",
    "])\n",
    "\n",
    "model.compile(optimizer='adam',\n",
    "              loss='binary_crossentropy',\n",
    "              metrics=['accuracy'])\n",
    "\n",
    "model.summary()"
   ]
  },
  {
   "cell_type": "markdown",
   "metadata": {
    "colab_type": "text",
    "id": "ensVjShsQxR4"
   },
   "source": [
    "## Transfer Learning"
   ]
  },
  {
   "cell_type": "code",
   "execution_count": 113,
   "metadata": {
    "colab": {
     "base_uri": "https://localhost:8080/",
     "height": 593
    },
    "colab_type": "code",
    "id": "4wC-KOOQBSoe",
    "outputId": "de58b354-c64c-4f2d-829c-9885ba53749b"
   },
   "outputs": [
    {
     "name": "stdout",
     "output_type": "stream",
     "text": [
      "Downloading data from https://storage.googleapis.com/tensorflow/keras-applications/vgg16/vgg16_weights_tf_dim_ordering_tf_kernels_notop.h5\n",
      "58889256/58889256 [==============================] - 11s 0us/step\n"
     ]
    },
    {
     "data": {
      "text/html": [
       "<div>\n",
       "<style scoped>\n",
       "    .dataframe tbody tr th:only-of-type {\n",
       "        vertical-align: middle;\n",
       "    }\n",
       "\n",
       "    .dataframe tbody tr th {\n",
       "        vertical-align: top;\n",
       "    }\n",
       "\n",
       "    .dataframe thead th {\n",
       "        text-align: right;\n",
       "    }\n",
       "</style>\n",
       "<table border=\"1\" class=\"dataframe\">\n",
       "  <thead>\n",
       "    <tr style=\"text-align: right;\">\n",
       "      <th></th>\n",
       "      <th>Layer Type</th>\n",
       "      <th>Layer Name</th>\n",
       "      <th>Layer Trainable</th>\n",
       "    </tr>\n",
       "  </thead>\n",
       "  <tbody>\n",
       "    <tr>\n",
       "      <th>0</th>\n",
       "      <td>&lt;keras.engine.input_layer.InputLayer object at 0x000001BA22E2E370&gt;</td>\n",
       "      <td>input_1</td>\n",
       "      <td>False</td>\n",
       "    </tr>\n",
       "    <tr>\n",
       "      <th>1</th>\n",
       "      <td>&lt;keras.layers.convolutional.conv2d.Conv2D object at 0x000001BA22E25EE0&gt;</td>\n",
       "      <td>block1_conv1</td>\n",
       "      <td>False</td>\n",
       "    </tr>\n",
       "    <tr>\n",
       "      <th>2</th>\n",
       "      <td>&lt;keras.layers.convolutional.conv2d.Conv2D object at 0x000001BA22EBFAC0&gt;</td>\n",
       "      <td>block1_conv2</td>\n",
       "      <td>False</td>\n",
       "    </tr>\n",
       "    <tr>\n",
       "      <th>3</th>\n",
       "      <td>&lt;keras.layers.pooling.max_pooling2d.MaxPooling2D object at 0x000001BA2376B2B0&gt;</td>\n",
       "      <td>block1_pool</td>\n",
       "      <td>False</td>\n",
       "    </tr>\n",
       "    <tr>\n",
       "      <th>4</th>\n",
       "      <td>&lt;keras.layers.convolutional.conv2d.Conv2D object at 0x000001BA201DC0A0&gt;</td>\n",
       "      <td>block2_conv1</td>\n",
       "      <td>False</td>\n",
       "    </tr>\n",
       "    <tr>\n",
       "      <th>5</th>\n",
       "      <td>&lt;keras.layers.convolutional.conv2d.Conv2D object at 0x000001BA231631C0&gt;</td>\n",
       "      <td>block2_conv2</td>\n",
       "      <td>False</td>\n",
       "    </tr>\n",
       "    <tr>\n",
       "      <th>6</th>\n",
       "      <td>&lt;keras.layers.pooling.max_pooling2d.MaxPooling2D object at 0x000001BA231635B0&gt;</td>\n",
       "      <td>block2_pool</td>\n",
       "      <td>False</td>\n",
       "    </tr>\n",
       "    <tr>\n",
       "      <th>7</th>\n",
       "      <td>&lt;keras.layers.convolutional.conv2d.Conv2D object at 0x000001BA23163D90&gt;</td>\n",
       "      <td>block3_conv1</td>\n",
       "      <td>False</td>\n",
       "    </tr>\n",
       "    <tr>\n",
       "      <th>8</th>\n",
       "      <td>&lt;keras.layers.convolutional.conv2d.Conv2D object at 0x000001BA23165190&gt;</td>\n",
       "      <td>block3_conv2</td>\n",
       "      <td>False</td>\n",
       "    </tr>\n",
       "    <tr>\n",
       "      <th>9</th>\n",
       "      <td>&lt;keras.layers.convolutional.conv2d.Conv2D object at 0x000001BA2316DDF0&gt;</td>\n",
       "      <td>block3_conv3</td>\n",
       "      <td>False</td>\n",
       "    </tr>\n",
       "    <tr>\n",
       "      <th>10</th>\n",
       "      <td>&lt;keras.layers.pooling.max_pooling2d.MaxPooling2D object at 0x000001BA2316D130&gt;</td>\n",
       "      <td>block3_pool</td>\n",
       "      <td>False</td>\n",
       "    </tr>\n",
       "    <tr>\n",
       "      <th>11</th>\n",
       "      <td>&lt;keras.layers.convolutional.conv2d.Conv2D object at 0x000001BA2316DD60&gt;</td>\n",
       "      <td>block4_conv1</td>\n",
       "      <td>False</td>\n",
       "    </tr>\n",
       "    <tr>\n",
       "      <th>12</th>\n",
       "      <td>&lt;keras.layers.convolutional.conv2d.Conv2D object at 0x000001BA22EB84F0&gt;</td>\n",
       "      <td>block4_conv2</td>\n",
       "      <td>False</td>\n",
       "    </tr>\n",
       "    <tr>\n",
       "      <th>13</th>\n",
       "      <td>&lt;keras.layers.convolutional.conv2d.Conv2D object at 0x000001BA22E92BE0&gt;</td>\n",
       "      <td>block4_conv3</td>\n",
       "      <td>False</td>\n",
       "    </tr>\n",
       "    <tr>\n",
       "      <th>14</th>\n",
       "      <td>&lt;keras.layers.pooling.max_pooling2d.MaxPooling2D object at 0x000001BA22F02730&gt;</td>\n",
       "      <td>block4_pool</td>\n",
       "      <td>False</td>\n",
       "    </tr>\n",
       "    <tr>\n",
       "      <th>15</th>\n",
       "      <td>&lt;keras.layers.convolutional.conv2d.Conv2D object at 0x000001BA23165A30&gt;</td>\n",
       "      <td>block5_conv1</td>\n",
       "      <td>False</td>\n",
       "    </tr>\n",
       "    <tr>\n",
       "      <th>16</th>\n",
       "      <td>&lt;keras.layers.convolutional.conv2d.Conv2D object at 0x000001BA22F053D0&gt;</td>\n",
       "      <td>block5_conv2</td>\n",
       "      <td>False</td>\n",
       "    </tr>\n",
       "    <tr>\n",
       "      <th>17</th>\n",
       "      <td>&lt;keras.layers.convolutional.conv2d.Conv2D object at 0x000001BA22F05D30&gt;</td>\n",
       "      <td>block5_conv3</td>\n",
       "      <td>False</td>\n",
       "    </tr>\n",
       "    <tr>\n",
       "      <th>18</th>\n",
       "      <td>&lt;keras.layers.pooling.max_pooling2d.MaxPooling2D object at 0x000001BA22F09D90&gt;</td>\n",
       "      <td>block5_pool</td>\n",
       "      <td>False</td>\n",
       "    </tr>\n",
       "  </tbody>\n",
       "</table>\n",
       "</div>"
      ],
      "text/plain": [
       "                                                                        Layer Type  \\\n",
       "0               <keras.engine.input_layer.InputLayer object at 0x000001BA22E2E370>   \n",
       "1          <keras.layers.convolutional.conv2d.Conv2D object at 0x000001BA22E25EE0>   \n",
       "2          <keras.layers.convolutional.conv2d.Conv2D object at 0x000001BA22EBFAC0>   \n",
       "3   <keras.layers.pooling.max_pooling2d.MaxPooling2D object at 0x000001BA2376B2B0>   \n",
       "4          <keras.layers.convolutional.conv2d.Conv2D object at 0x000001BA201DC0A0>   \n",
       "5          <keras.layers.convolutional.conv2d.Conv2D object at 0x000001BA231631C0>   \n",
       "6   <keras.layers.pooling.max_pooling2d.MaxPooling2D object at 0x000001BA231635B0>   \n",
       "7          <keras.layers.convolutional.conv2d.Conv2D object at 0x000001BA23163D90>   \n",
       "8          <keras.layers.convolutional.conv2d.Conv2D object at 0x000001BA23165190>   \n",
       "9          <keras.layers.convolutional.conv2d.Conv2D object at 0x000001BA2316DDF0>   \n",
       "10  <keras.layers.pooling.max_pooling2d.MaxPooling2D object at 0x000001BA2316D130>   \n",
       "11         <keras.layers.convolutional.conv2d.Conv2D object at 0x000001BA2316DD60>   \n",
       "12         <keras.layers.convolutional.conv2d.Conv2D object at 0x000001BA22EB84F0>   \n",
       "13         <keras.layers.convolutional.conv2d.Conv2D object at 0x000001BA22E92BE0>   \n",
       "14  <keras.layers.pooling.max_pooling2d.MaxPooling2D object at 0x000001BA22F02730>   \n",
       "15         <keras.layers.convolutional.conv2d.Conv2D object at 0x000001BA23165A30>   \n",
       "16         <keras.layers.convolutional.conv2d.Conv2D object at 0x000001BA22F053D0>   \n",
       "17         <keras.layers.convolutional.conv2d.Conv2D object at 0x000001BA22F05D30>   \n",
       "18  <keras.layers.pooling.max_pooling2d.MaxPooling2D object at 0x000001BA22F09D90>   \n",
       "\n",
       "      Layer Name  Layer Trainable  \n",
       "0        input_1            False  \n",
       "1   block1_conv1            False  \n",
       "2   block1_conv2            False  \n",
       "3    block1_pool            False  \n",
       "4   block2_conv1            False  \n",
       "5   block2_conv2            False  \n",
       "6    block2_pool            False  \n",
       "7   block3_conv1            False  \n",
       "8   block3_conv2            False  \n",
       "9   block3_conv3            False  \n",
       "10   block3_pool            False  \n",
       "11  block4_conv1            False  \n",
       "12  block4_conv2            False  \n",
       "13  block4_conv3            False  \n",
       "14   block4_pool            False  \n",
       "15  block5_conv1            False  \n",
       "16  block5_conv2            False  \n",
       "17  block5_conv3            False  \n",
       "18   block5_pool            False  "
      ]
     },
     "execution_count": 113,
     "metadata": {},
     "output_type": "execute_result"
    }
   ],
   "source": [
    "from tensorflow.keras.applications import Xception, VGG16, InceptionV3\n",
    "from tensorflow.keras import layers\n",
    "from tensorflow.keras import Model\n",
    "import pandas as pd\n",
    "\n",
    "####################### init pre_trained_model #################################\n",
    "\n",
    "# pre_trained_model = InceptionV3(input_shape=(150,150,3),\n",
    "#                                 include_top=False)\n",
    "\n",
    "pre_trained_model = VGG16(input_shape=(150,150,3),\n",
    "                          include_top=False)\n",
    "\n",
    "# pre_trained_model = Xception(input_shape=(150,150,3),\n",
    "#                              include_top=False)\n",
    "\n",
    "# pre_trained_model.layers.pop()\n",
    "\n",
    "####################### init pre_trained_model #################################\n",
    "\n",
    "############################## freeze layer ####################################\n",
    "\n",
    "for layer in pre_trained_model.layers:\n",
    "    layer.trainable = False\n",
    "\n",
    "# for layer in pre_trained_model.layers[:-4]:\n",
    "#     layer.trainable = False\n",
    "\n",
    "############################## freeze layer ####################################\n",
    "\n",
    "############################## Flatten Layer ###################################\n",
    "\n",
    "# last_output = pre_trained_model.layers[-1].output\n",
    "# x = layers.Flatten()(last_output)\n",
    "\n",
    "x = layers.Flatten()(pre_trained_model.output)\n",
    "\n",
    "############################## Flatten Layer ###################################\n",
    "\n",
    "######################### Fully Connected Layer ################################\n",
    "\n",
    "x = layers.Dense(1024, activation='relu')(x)\n",
    "x = layers.Dropout(0.2)(x)\n",
    "x = layers.Dense(1, activation='sigmoid')(x)\n",
    "\n",
    "######################### Fully Connected Layer ################################\n",
    "\n",
    "model = Model(pre_trained_model.input, x) \n",
    "model.compile(optimizer='adam', #RMSprop(lr=0.0001), adam\n",
    "              loss='binary_crossentropy',\n",
    "              metrics=['accuracy'])\n",
    "\n",
    "pd.set_option('max_colwidth', None)\n",
    "layers = [(layer, layer.name, layer.trainable) for layer in pre_trained_model.layers]\n",
    "pd.DataFrame(layers, columns=['Layer Type', 'Layer Name', 'Layer Trainable'])"
   ]
  },
  {
   "cell_type": "code",
   "execution_count": 115,
   "metadata": {
    "colab": {
     "base_uri": "https://localhost:8080/",
     "height": 55
    },
    "colab_type": "code",
    "id": "U91Jl7OgJj0I",
    "outputId": "5fbb0d98-b930-4953-bd8e-1dc9e9c7dba3"
   },
   "outputs": [
    {
     "name": "stdout",
     "output_type": "stream",
     "text": [
      "7308\n",
      "3593\n"
     ]
    }
   ],
   "source": [
    "train_len = 0\n",
    "for foldername in os.listdir('fruit-dataset/train'):\n",
    "    train_len = train_len + len(os.listdir(os.path.join('fruit-dataset/train',foldername)))\n",
    "    \n",
    "val_len = 0\n",
    "for foldername in os.listdir('fruit-dataset/val'):\n",
    "    val_len = val_len + len(os.listdir(os.path.join('fruit-dataset/val',foldername)))\n",
    "\n",
    "print(train_len)\n",
    "print(val_len)"
   ]
  },
  {
   "cell_type": "code",
   "execution_count": 116,
   "metadata": {
    "colab": {
     "base_uri": "https://localhost:8080/",
     "height": 130
    },
    "colab_type": "code",
    "id": "G_gyoqb42rpK",
    "outputId": "2ddc696e-19c8-46c0-f72d-d08c55ea020f"
   },
   "outputs": [
    {
     "name": "stdout",
     "output_type": "stream",
     "text": [
      "Epoch 1/3\n",
      "228/228 [==============================] - 377s 2s/step - loss: 0.3511 - accuracy: 0.8576 - val_loss: 0.3688 - val_accuracy: 0.8458\n",
      "Epoch 2/3\n",
      "228/228 [==============================] - 368s 2s/step - loss: 0.2485 - accuracy: 0.8937 - val_loss: 0.2132 - val_accuracy: 0.9068\n",
      "Epoch 3/3\n",
      "228/228 [==============================] - 386s 2s/step - loss: 0.2095 - accuracy: 0.9156 - val_loss: 0.2059 - val_accuracy: 0.9132\n"
     ]
    }
   ],
   "source": [
    "history = model.fit(\n",
    "    train_generator,\n",
    "    steps_per_epoch=(train_len/32),\n",
    "    epochs=3,\n",
    "    verbose=1,\n",
    "    callbacks=[callbacks],\n",
    "    validation_data=validation_generator,\n",
    "    validation_steps=(val_len/32)\n",
    ")"
   ]
  },
  {
   "cell_type": "markdown",
   "metadata": {
    "colab_type": "text",
    "id": "r5a2n6lNocm0"
   },
   "source": [
    "## Plot Loss and Accuracy"
   ]
  },
  {
   "cell_type": "code",
   "execution_count": 123,
   "metadata": {
    "colab": {
     "base_uri": "https://localhost:8080/",
     "height": 610
    },
    "colab_type": "code",
    "id": "BhrIeVg8237q",
    "outputId": "32702119-ca8f-47ec-e5f0-b96227b14f9b"
   },
   "outputs": [
    {
     "data": {
      "text/plain": [
       "<Figure size 432x288 with 0 Axes>"
      ]
     },
     "execution_count": 123,
     "metadata": {},
     "output_type": "execute_result"
    },
    {
     "data": {
      "image/png": "[encoded data removed]",
      "text/plain": [
       "<Figure size 432x288 with 1 Axes>"
      ]
     },
     "metadata": {
      "needs_background": "light"
     },
     "output_type": "display_data"
    },
    {
     "data": {
      "image/png": "[encoded data removed]",
      "text/plain": [
       "<Figure size 432x288 with 1 Axes>"
      ]
     },
     "metadata": {
      "needs_background": "light"
     },
     "output_type": "display_data"
    },
    {
     "data": {
      "text/plain": [
       "<Figure size 432x288 with 0 Axes>"
      ]
     },
     "metadata": {},
     "output_type": "display_data"
    }
   ],
   "source": [
    "acc = history.history['accuracy']\n",
    "val_acc = history.history['val_accuracy']\n",
    "loss = history.history['loss']\n",
    "val_loss = history.history['val_loss']\n",
    "\n",
    "epochs = range(len(acc))\n",
    "\n",
    "plt.plot(epochs, acc, 'r')\n",
    "plt.plot(epochs, val_acc, 'b')\n",
    "plt.title('Training and Validation Accuracy')\n",
    "plt.ylabel('accuracy')\n",
    "plt.xlabel('epoch')\n",
    "plt.legend(['train', 'val'], loc='upper left')\n",
    "plt.figure()\n",
    "\n",
    "plt.plot(epochs, loss, 'r')\n",
    "plt.plot(epochs, val_loss, 'b')\n",
    "plt.ylabel('loss')\n",
    "plt.xlabel('epoch')\n",
    "plt.legend(['train', 'val'], loc='upper left')\n",
    "plt.title('Training and Validation Loss')\n",
    "plt.figure()"
   ]
  },
  {
   "cell_type": "markdown",
   "metadata": {
    "colab_type": "text",
    "id": "PvKVUf0ggLm0"
   },
   "source": [
    "## Evaluate Model"
   ]
  },
  {
   "cell_type": "code",
   "execution_count": 118,
   "metadata": {
    "colab": {
     "base_uri": "https://localhost:8080/",
     "height": 92
    },
    "colab_type": "code",
    "id": "NOyevWcdQaaL",
    "outputId": "888de8e4-9dda-4143-f175-2f4794b349cc"
   },
   "outputs": [
    {
     "name": "stdout",
     "output_type": "stream",
     "text": [
      "Found 2698 images belonging to 2 classes.\n",
      "2698/2698 [==============================] - 115s 43ms/step - loss: 0.1211 - accuracy: 0.9596\n",
      "accuracy test:  0.9595996737480164\n",
      "loss test:  0.121064193546772\n"
     ]
    }
   ],
   "source": [
    "test_datagen = ImageDataGenerator(rescale=1./255)\n",
    "\n",
    "test_generator = test_datagen.flow_from_directory(test_dir,\n",
    "                                                  batch_size=1,\n",
    "                                                  target_size=(150, 150),\n",
    "                                                  shuffle = False,\n",
    "                                                  class_mode='binary')\n",
    "\n",
    "filenames = test_generator.filenames\n",
    "nb_samples = len(filenames)\n",
    "\n",
    "loss, acc = model.evaluate(test_generator,steps = (nb_samples), verbose=1)\n",
    "print('accuracy test: ',acc)\n",
    "print('loss test: ',loss)"
   ]
  },
  {
   "cell_type": "code",
   "execution_count": 119,
   "metadata": {
    "colab": {},
    "colab_type": "code",
    "id": "k3gNP80Jn3Ol"
   },
   "outputs": [],
   "source": [
    "model.save('model.h5')"
   ]
  }
 ],
 "metadata": {
  "accelerator": "GPU",
  "colab": {
   "authorship_tag": "ABX9TyMRUFdi2wABb9Baed42ZeW0",
   "collapsed_sections": [],
   "include_colab_link": true,
   "name": "Untitled3.ipynb",
   "provenance": [],
   "toc_visible": true
  },
  "kernelspec": {
   "display_name": "Python 3 (ipykernel)",
   "language": "python",
   "name": "python3"
  },
  "language_info": {
   "codemirror_mode": {
    "name": "ipython",
    "version": 3
   },
   "file_extension": ".py",
   "mimetype": "text/x-python",
   "name": "python",
   "nbconvert_exporter": "python",
   "pygments_lexer": "ipython3",
   "version": "3.9.13"
  }
 },
 "nbformat": 4,
 "nbformat_minor": 1
}
